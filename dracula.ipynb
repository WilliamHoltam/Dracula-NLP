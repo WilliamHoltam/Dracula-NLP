{
 "cells": [
  {
   "cell_type": "code",
   "execution_count": 23,
   "metadata": {},
   "outputs": [
    {
     "ename": "NameError",
     "evalue": "name 'cell' is not defined",
     "output_type": "error",
     "traceback": [
      "\u001b[1;31m---------------------------------------------------------------------------\u001b[0m",
      "\u001b[1;31mNameError\u001b[0m                                 Traceback (most recent call last)",
      "\u001b[1;32m<ipython-input-23-d26b454f7035>\u001b[0m in \u001b[0;36m<module>\u001b[1;34m\u001b[0m\n\u001b[1;32m----> 1\u001b[1;33m \u001b[0mcell\u001b[0m\u001b[1;33m.\u001b[0m\u001b[0mmetadata\u001b[0m\u001b[1;33m.\u001b[0m\u001b[0mhide_input\u001b[0m\u001b[1;33m=\u001b[0m\u001b[1;32mTrue\u001b[0m\u001b[1;33m\u001b[0m\u001b[1;33m\u001b[0m\u001b[0m\n\u001b[0m\u001b[0;32m      2\u001b[0m \u001b[1;32mimport\u001b[0m \u001b[0mspacy\u001b[0m\u001b[1;33m\u001b[0m\u001b[1;33m\u001b[0m\u001b[0m\n\u001b[0;32m      3\u001b[0m \u001b[1;32mfrom\u001b[0m \u001b[0mspacy\u001b[0m \u001b[1;32mimport\u001b[0m \u001b[0mdisplacy\u001b[0m\u001b[1;33m\u001b[0m\u001b[1;33m\u001b[0m\u001b[0m\n\u001b[0;32m      4\u001b[0m \u001b[1;32mfrom\u001b[0m \u001b[0mtqdm\u001b[0m \u001b[1;32mimport\u001b[0m \u001b[0mtqdm\u001b[0m\u001b[1;33m\u001b[0m\u001b[1;33m\u001b[0m\u001b[0m\n",
      "\u001b[1;31mNameError\u001b[0m: name 'cell' is not defined"
     ]
    }
   ],
   "source": [
    "cell.metadata.hide_input=True\n",
    "import spacy\n",
    "from spacy import displacy\n",
    "from tqdm import tqdm"
   ]
  },
  {
   "cell_type": "code",
   "execution_count": 7,
   "metadata": {},
   "outputs": [],
   "source": [
    "nlp = spacy.load('en_core_web_md')\n",
    "doc = nlp(open(\"dracula.txt\").read())"
   ]
  },
  {
   "cell_type": "code",
   "execution_count": 8,
   "metadata": {},
   "outputs": [
    {
     "name": "stderr",
     "output_type": "stream",
     "text": [
      "  0%|                                                                                           | 0/10 [00:00<?, ?it/s]"
     ]
    },
    {
     "name": "stdout",
     "output_type": "stream",
     "text": [
      "The the DET DT det Xxx True False\n",
      "Project project PROPN NNP compound Xxxxx True False\n",
      "Gutenberg gutenberg PROPN NNP compound Xxxxx True False\n"
     ]
    },
    {
     "name": "stderr",
     "output_type": "stream",
     "text": [
      " 30%|████████████████████████▉                                                          | 3/10 [00:00<00:00, 27.76it/s]"
     ]
    },
    {
     "name": "stdout",
     "output_type": "stream",
     "text": [
      "EBook ebook PROPN NNP ROOT XXxxx True False\n",
      "of of ADP IN prep xx True False\n",
      "Dracula dracula PROPN NNP pobj Xxxxx True False\n",
      ", , PUNCT , punct , False False\n"
     ]
    },
    {
     "name": "stderr",
     "output_type": "stream",
     "text": [
      " 70%|██████████████████████████████████████████████████████████                         | 7/10 [00:00<00:00, 29.52it/s]"
     ]
    },
    {
     "name": "stdout",
     "output_type": "stream",
     "text": [
      "by by ADP IN prep xx True False\n",
      "Bram bram PROPN NNP compound Xxxx True False\n",
      "Stoker stoker PROPN NNP pobj Xxxxx True False\n"
     ]
    },
    {
     "name": "stderr",
     "output_type": "stream",
     "text": [
      "100%|██████████████████████████████████████████████████████████████████████████████████| 10/10 [00:00<00:00, 33.66it/s]\n"
     ]
    }
   ],
   "source": [
    "for token in tqdm(doc[0:10]):\n",
    "    print(\n",
    "        token.text,\n",
    "        token.lemma_,\n",
    "        token.pos_,\n",
    "        token.tag_,\n",
    "        token.dep_,\n",
    "        token.shape_,\n",
    "        token.is_alpha,\n",
    "        token.is_stop\n",
    "    )"
   ]
  },
  {
   "cell_type": "code",
   "execution_count": 9,
   "metadata": {},
   "outputs": [],
   "source": [
    "sentence_spans = list(doc.sents)[200:210]"
   ]
  },
  {
   "cell_type": "code",
   "execution_count": 22,
   "metadata": {},
   "outputs": [],
   "source": [
    "# displacy.render(sentence_spans[5], style=\"dep\", jupyter=True, options={\"distance\": 50})"
   ]
  },
  {
   "cell_type": "code",
   "execution_count": 11,
   "metadata": {},
   "outputs": [
    {
     "name": "stderr",
     "output_type": "stream",
     "text": [
      "C:\\Users\\WilliamHoltam\\Miniconda3\\lib\\runpy.py:193: UserWarning: [W006] No entities to visualize found in Doc object. If this is surprising to you, make sure the Doc was processed using a model that supports named entity recognition, and check the `doc.ents` property manually if necessary.\n",
      "  \"__main__\", mod_spec)\n",
      "C:\\Users\\WilliamHoltam\\Miniconda3\\lib\\runpy.py:193: UserWarning: [W006] No entities to visualize found in Doc object. If this is surprising to you, make sure the Doc was processed using a model that supports named entity recognition, and check the `doc.ents` property manually if necessary.\n",
      "  \"__main__\", mod_spec)\n",
      "C:\\Users\\WilliamHoltam\\Miniconda3\\lib\\runpy.py:193: UserWarning: [W006] No entities to visualize found in Doc object. If this is surprising to you, make sure the Doc was processed using a model that supports named entity recognition, and check the `doc.ents` property manually if necessary.\n",
      "  \"__main__\", mod_spec)\n",
      "C:\\Users\\WilliamHoltam\\Miniconda3\\lib\\runpy.py:193: UserWarning: [W006] No entities to visualize found in Doc object. If this is surprising to you, make sure the Doc was processed using a model that supports named entity recognition, and check the `doc.ents` property manually if necessary.\n",
      "  \"__main__\", mod_spec)\n",
      "C:\\Users\\WilliamHoltam\\Miniconda3\\lib\\runpy.py:193: UserWarning: [W006] No entities to visualize found in Doc object. If this is surprising to you, make sure the Doc was processed using a model that supports named entity recognition, and check the `doc.ents` property manually if necessary.\n",
      "  \"__main__\", mod_spec)\n",
      "C:\\Users\\WilliamHoltam\\Miniconda3\\lib\\runpy.py:193: UserWarning: [W006] No entities to visualize found in Doc object. If this is surprising to you, make sure the Doc was processed using a model that supports named entity recognition, and check the `doc.ents` property manually if necessary.\n",
      "  \"__main__\", mod_spec)\n"
     ]
    },
    {
     "data": {
      "text/html": [
       "<div class=\"entities\" style=\"line-height: 2.5\">The road grew more level, and we appeared\n",
       "to fly along. </div>\n",
       "\n",
       "<div class=\"entities\" style=\"line-height: 2.5\">Then the mountains seemed to come nearer to us on each</br>side and to frown down upon us; we were entering on the Borgo Pass. \n",
       "<mark class=\"entity\" style=\"background: #ff9561; padding: 0.45em 0.6em; margin: 0 0.25em; line-height: 1; border-radius: 0.35em; box-decoration-break: clone; -webkit-box-decoration-break: clone\">\n",
       "    \n",
       "    <span style=\"font-size: 0.8em; font-weight: bold; line-height: 1; border-radius: 0.35em; text-transform: uppercase; vertical-align: middle; margin-left: 0.5rem\">LOC</span>\n",
       "</mark>\n",
       "</div>\n",
       "\n",
       "<div class=\"entities\" style=\"line-height: 2.5\">One</br>by one several of the passengers offered me gifts, which they pressed</br>upon me with an earnestness which would take no denial; these were</br>certainly of an odd and varied kind, but each was given in simple good</br>faith, with a kindly word, and a blessing, and that strange mixture of</br>fear-meaning movements which I had seen outside the hotel at</br>Bistritz--the sign of the cross and the guard against the evil eye.</br>\n",
       "<mark class=\"entity\" style=\"background: #e4e7d2; padding: 0.45em 0.6em; margin: 0 0.25em; line-height: 1; border-radius: 0.35em; box-decoration-break: clone; -webkit-box-decoration-break: clone\">\n",
       "    \n",
       "    <span style=\"font-size: 0.8em; font-weight: bold; line-height: 1; border-radius: 0.35em; text-transform: uppercase; vertical-align: middle; margin-left: 0.5rem\">CARDINAL</span>\n",
       "</mark>\n",
       "</div>\n",
       "\n",
       "<div class=\"entities\" style=\"line-height: 2.5\">Then, as we flew along, the driver leaned forward, and on each side the\n",
       "passengers, craning over the edge of the coach, peered eagerly into the\n",
       "darkness. </div>\n",
       "\n",
       "<div class=\"entities\" style=\"line-height: 2.5\">It was evident that something very exciting was either\n",
       "happening or expected, but though I asked each passenger, no one would\n",
       "give me the slightest explanation. </div>\n",
       "\n",
       "<div class=\"entities\" style=\"line-height: 2.5\">This state of excitement kept on for</br>some little time; and at last we saw before us the Pass opening out on</br>the eastern side. \n",
       "<mark class=\"entity\" style=\"background: #ff9561; padding: 0.45em 0.6em; margin: 0 0.25em; line-height: 1; border-radius: 0.35em; box-decoration-break: clone; -webkit-box-decoration-break: clone\">\n",
       "    \n",
       "    <span style=\"font-size: 0.8em; font-weight: bold; line-height: 1; border-radius: 0.35em; text-transform: uppercase; vertical-align: middle; margin-left: 0.5rem\">LOC</span>\n",
       "</mark>\n",
       "</div>\n",
       "\n",
       "<div class=\"entities\" style=\"line-height: 2.5\">There were dark, rolling clouds overhead, and in the\n",
       "air the heavy, oppressive sense of thunder. </div>\n",
       "\n",
       "<div class=\"entities\" style=\"line-height: 2.5\">It seemed as though the</br>mountain range had separated two atmospheres, and that now we had got</br>into the thunderous one. \n",
       "<mark class=\"entity\" style=\"background: #e4e7d2; padding: 0.45em 0.6em; margin: 0 0.25em; line-height: 1; border-radius: 0.35em; box-decoration-break: clone; -webkit-box-decoration-break: clone\">\n",
       "    \n",
       "    <span style=\"font-size: 0.8em; font-weight: bold; line-height: 1; border-radius: 0.35em; text-transform: uppercase; vertical-align: middle; margin-left: 0.5rem\">CARDINAL</span>\n",
       "</mark>\n",
       "</div>\n",
       "\n",
       "<div class=\"entities\" style=\"line-height: 2.5\">I was now myself looking out for the conveyance\n",
       "which was to take me to the Count. </div>\n",
       "\n",
       "<div class=\"entities\" style=\"line-height: 2.5\">Each moment I expected to see the\n",
       "glare of lamps through the blackness; but all was dark. </div>"
      ],
      "text/plain": [
       "<IPython.core.display.HTML object>"
      ]
     },
     "metadata": {},
     "output_type": "display_data"
    }
   ],
   "source": [
    "displacy.render(sentence_spans, style=\"ent\", jupyter=True, options={\"distance\": 140})"
   ]
  },
  {
   "cell_type": "code",
   "execution_count": 12,
   "metadata": {},
   "outputs": [
    {
     "name": "stderr",
     "output_type": "stream",
     "text": [
      "0it [00:00, ?it/s]"
     ]
    },
    {
     "name": "stdout",
     "output_type": "stream",
     "text": [
      "TO\n",
      "\n",
      "                             MY DEAR FRIEND FRIEND appos PRESS\n",
      "HOMMY-BEG BEG nsubj CONTENTS\n",
      "I I nsubj Page\n",
      "CHAPTER III III appos 14\n",
      "Jonathan Harker's Journal Journal ROOT Journal\n"
     ]
    },
    {
     "name": "stderr",
     "output_type": "stream",
     "text": [
      "5it [00:00, 39.97it/s]"
     ]
    },
    {
     "name": "stdout",
     "output_type": "stream",
     "text": [
      "26\n",
      "\n",
      "CHAPTER IV IV appos Journal\n",
      "Jonathan Harker's Journal                                             38\n",
      "\n",
      "CHAPTER V\n",
      "\n",
      "Letters Letters ROOT Letters\n",
      "Lucy Lucy appos Letters\n",
      "Mina Mina conj Lucy\n",
      "CHAPTER VI\n",
      "\n",
      "Mina Murray's Journal                                                 59\n",
      "\n",
      "CHAPTER VII VII ROOT VII\n"
     ]
    },
    {
     "name": "stderr",
     "output_type": "stream",
     "text": [
      "10it [00:00, 40.84it/s]"
     ]
    },
    {
     "name": "stdout",
     "output_type": "stream",
     "text": [
      "The Dailygraph Dailygraph pobj from\n",
      "Mina Murray's Journal Journal ROOT Journal\n"
     ]
    },
    {
     "name": "stderr",
     "output_type": "stream",
     "text": [
      "12it [00:00, 41.11it/s]\n"
     ]
    }
   ],
   "source": [
    "for chunk in tqdm(doc[200:300].noun_chunks):\n",
    "    print(chunk.text, chunk.root.text, chunk.root.dep_,\n",
    "            chunk.root.head.text)"
   ]
  },
  {
   "cell_type": "code",
   "execution_count": 13,
   "metadata": {},
   "outputs": [
    {
     "name": "stderr",
     "output_type": "stream",
     "text": [
      "  0%|                                                                                           | 0/20 [00:00<?, ?it/s]"
     ]
    },
    {
     "name": "stdout",
     "output_type": "stream",
     "text": [
      "'s case Harker PROPN []\n",
      "Journal compound 1 NUM [                                             ]\n",
      "                                               Journal PROPN []\n",
      "1 nummod II PROPN [Journal, \n",
      "\n",
      "]\n",
      "\n",
      "\n",
      "  1 NUM []\n",
      "CHAPTER compound II PROPN []\n"
     ]
    },
    {
     "name": "stderr",
     "output_type": "stream",
     "text": [
      " 30%|████████████████████████▉                                                          | 6/20 [00:00<00:00, 50.37it/s]"
     ]
    },
    {
     "name": "stdout",
     "output_type": "stream",
     "text": [
      "II compound Harker PROPN [1, CHAPTER, \n",
      "\n",
      "]\n",
      "\n",
      "\n",
      "  II PROPN []\n",
      "Jonathan compound Harker PROPN []\n",
      "Harker poss Journal PROPN [Harker, II, Jonathan, 's]\n",
      "'s case Harker PROPN []\n",
      "Journal amod 14 NUM [Harker,                                             ]\n",
      "                                              Journal PROPN []\n",
      "14 nummod Page NOUN [Journal, \n",
      "\n",
      ", III]\n"
     ]
    },
    {
     "name": "stderr",
     "output_type": "stream",
     "text": [
      " 70%|█████████████████████████████████████████████████████████▍                        | 14/20 [00:00<00:00, 56.31it/s]"
     ]
    },
    {
     "name": "stdout",
     "output_type": "stream",
     "text": [
      "\n",
      "\n",
      "  14 NUM []\n",
      "CHAPTER compound III PROPN []\n",
      "III appos 14 NUM [CHAPTER, \n",
      "\n",
      "]\n",
      "\n",
      "\n",
      "  III PROPN []\n",
      "Jonathan compound Harker PROPN []\n",
      "Harker poss Journal PROPN [Jonathan, 's]\n"
     ]
    },
    {
     "name": "stderr",
     "output_type": "stream",
     "text": [
      "100%|██████████████████████████████████████████████████████████████████████████████████| 20/20 [00:00<00:00, 61.87it/s]\n"
     ]
    }
   ],
   "source": [
    "for token in tqdm(doc[220:240]):\n",
    "    print(token.text, token.dep_, token.head.text, token.head.pos_,\n",
    "            [child for child in token.children])"
   ]
  },
  {
   "cell_type": "code",
   "execution_count": null,
   "metadata": {},
   "outputs": [],
   "source": []
  }
 ],
 "metadata": {
  "kernelspec": {
   "display_name": "Python 3",
   "language": "python",
   "name": "python3"
  },
  "language_info": {
   "codemirror_mode": {
    "name": "ipython",
    "version": 3
   },
   "file_extension": ".py",
   "mimetype": "text/x-python",
   "name": "python",
   "nbconvert_exporter": "python",
   "pygments_lexer": "ipython3",
   "version": "3.7.3"
  }
 },
 "nbformat": 4,
 "nbformat_minor": 2
}
